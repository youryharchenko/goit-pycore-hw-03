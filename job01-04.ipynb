{
 "cells": [
  {
   "cell_type": "markdown",
   "id": "89ea7213",
   "metadata": {},
   "source": [
    "# Завдання 1\n",
    "\n",
    "Створіть функцію get_days_from_today(date), яка розраховує кількість днів між заданою датою і поточною датою.\n",
    "\n",
    "Вимоги до завдання:\n",
    "\n",
    "*    Функція приймає один параметр: date — рядок, що представляє дату у форматі 'РРРР-ММ-ДД' (наприклад, '2020-10-09').\n",
    "*    Функція повертає ціле число, яке вказує на кількість днів від заданої дати до поточної. Якщо задана дата пізніша за поточну, результат має бути від'ємним.\n",
    "*    У розрахунках необхідно враховувати лише дні, ігноруючи час (години, хвилини, секунди).\n",
    "*    Для роботи з датами слід використовувати модуль datetime Python."
   ]
  },
  {
   "cell_type": "code",
   "execution_count": null,
   "id": "a57fa511",
   "metadata": {},
   "outputs": [],
   "source": [
    "from  datetime  import datetime"
   ]
  },
  {
   "cell_type": "code",
   "execution_count": 2,
   "id": "b2d9a5a9",
   "metadata": {},
   "outputs": [],
   "source": [
    "def get_days_from_today(date: str):\n",
    "    try:\n",
    "        # Перетворюємо рядок на об'єкт datetime та беремо з нього тільки дату\n",
    "        input_date = datetime.fromisoformat(date).date()\n",
    "    except ValueError:\n",
    "        # Помилка при перетворенні рядка в дату\n",
    "        print(f\"Рядок '{date}' містить некоректну дату або формат\")\n",
    "        days = None\n",
    "    else:\n",
    "        # Визначаємо поточеу дату\n",
    "        current_date = datetime.now().date()\n",
    "        # Визначаємо кількість днів між датами\n",
    "        days = (current_date - input_date).days\n",
    "    return days\n"
   ]
  },
  {
   "cell_type": "code",
   "execution_count": 3,
   "id": "191d6f6c",
   "metadata": {},
   "outputs": [
    {
     "data": {
      "text/plain": [
       "27"
      ]
     },
     "execution_count": 3,
     "metadata": {},
     "output_type": "execute_result"
    }
   ],
   "source": [
    "get_days_from_today('2025-05-01')"
   ]
  },
  {
   "cell_type": "code",
   "execution_count": 4,
   "id": "6320c73e",
   "metadata": {},
   "outputs": [
    {
     "data": {
      "text/plain": [
       "147"
      ]
     },
     "execution_count": 4,
     "metadata": {},
     "output_type": "execute_result"
    }
   ],
   "source": [
    "get_days_from_today('2025-01-01')"
   ]
  },
  {
   "cell_type": "code",
   "execution_count": 5,
   "id": "19bed777",
   "metadata": {},
   "outputs": [
    {
     "data": {
      "text/plain": [
       "-218"
      ]
     },
     "execution_count": 5,
     "metadata": {},
     "output_type": "execute_result"
    }
   ],
   "source": [
    "get_days_from_today('2026-01-01')"
   ]
  },
  {
   "cell_type": "code",
   "execution_count": 6,
   "id": "90b0856b",
   "metadata": {},
   "outputs": [
    {
     "data": {
      "text/plain": [
       "0"
      ]
     },
     "execution_count": 6,
     "metadata": {},
     "output_type": "execute_result"
    }
   ],
   "source": [
    "get_days_from_today(datetime.now().date().isoformat())"
   ]
  },
  {
   "cell_type": "code",
   "execution_count": 7,
   "id": "f4dfdf1f",
   "metadata": {},
   "outputs": [
    {
     "name": "stdout",
     "output_type": "stream",
     "text": [
      "Рядок '2025-' містить некоректну дату або формат\n"
     ]
    }
   ],
   "source": [
    "get_days_from_today('2025-')"
   ]
  },
  {
   "cell_type": "markdown",
   "id": "96f7ecfd",
   "metadata": {},
   "source": [
    "# Завдання 2\n",
    "\n",
    "Щоб виграти головний приз лотереї, необхідний збіг кількох номерів на лотерейному квитку з числами, що випали випадковим чином і в певному діапазоні під час чергового тиражу. Наприклад, необхідно вгадати шість чисел від 1 до 49 чи п'ять чисел від 1 до 36 тощо.\n",
    "\n",
    "Вам необхідно написати функцію get_numbers_ticket(min, max, quantity), яка допоможе генерувати набір унікальних випадкових чисел для таких лотерей. Вона буде повертати випадковий набір чисел у межах заданих параметрів, причому всі випадкові числа в наборі повинні бути унікальні.\n",
    "\n",
    "\n",
    "Вимоги до завдання:\n",
    "\n",
    "*    Параметри функції:\n",
    "\n",
    "    min - мінімальне можливе число у наборі (не менше 1).\n",
    "    max - максимальне можливе число у наборі (не більше 1000).\n",
    "    quantity - кількість чисел, які потрібно вибрати (значення між min і max).\n",
    "\n",
    "*    Функція генерує вказану кількість унікальних чисел у заданому діапазоні.\n",
    "*    Функція повертає список випадково вибраних, відсортованих чисел. Числа в наборі не повинні повторюватися. Якщо параметри не відповідають заданим обмеженням, функція повертає пустий список.\n"
   ]
  },
  {
   "cell_type": "code",
   "execution_count": 8,
   "id": "db71947b",
   "metadata": {},
   "outputs": [],
   "source": [
    "import random"
   ]
  },
  {
   "cell_type": "code",
   "execution_count": 9,
   "id": "1c288992",
   "metadata": {},
   "outputs": [],
   "source": [
    "def get_numbers_ticket(min: int, max: int, quantity: int):\n",
    "    # Перевіряємо взідні параметри\n",
    "    if min < 1 or max > 1000 or quantity > max or quantity < min:\n",
    "        print(\"Некоректні вхідні параметри\")\n",
    "        return []\n",
    "    # Для унікальності використаємо множину (set)\n",
    "    uniq = set()\n",
    "    # Генеруємо в циклі випадкові числа поки не отримаємо потрібну кількість унікальних\n",
    "    while len(uniq) < quantity:\n",
    "        uniq.add(random.randint(min, max))\n",
    "    # Перетворюємо множину на список, сортуємо та повертаємо\n",
    "    return sorted(list(uniq))\n",
    "\n"
   ]
  },
  {
   "cell_type": "code",
   "execution_count": 10,
   "id": "5bf3afbf",
   "metadata": {},
   "outputs": [
    {
     "data": {
      "text/plain": [
       "[8, 25, 33, 36, 37, 39]"
      ]
     },
     "execution_count": 10,
     "metadata": {},
     "output_type": "execute_result"
    }
   ],
   "source": [
    "get_numbers_ticket(1, 49, 6)"
   ]
  },
  {
   "cell_type": "code",
   "execution_count": 11,
   "id": "2389f292",
   "metadata": {},
   "outputs": [
    {
     "data": {
      "text/plain": [
       "[9, 26, 28, 30, 32]"
      ]
     },
     "execution_count": 11,
     "metadata": {},
     "output_type": "execute_result"
    }
   ],
   "source": [
    "get_numbers_ticket(1, 36, 5)"
   ]
  },
  {
   "cell_type": "code",
   "execution_count": 12,
   "id": "abd5a31b",
   "metadata": {},
   "outputs": [
    {
     "data": {
      "text/plain": [
       "[28]"
      ]
     },
     "execution_count": 12,
     "metadata": {},
     "output_type": "execute_result"
    }
   ],
   "source": [
    "get_numbers_ticket(1, 36, 1)"
   ]
  },
  {
   "cell_type": "code",
   "execution_count": 13,
   "id": "7c2d5b5d",
   "metadata": {},
   "outputs": [
    {
     "name": "stdout",
     "output_type": "stream",
     "text": [
      "Некоректні вхідні параметри\n"
     ]
    },
    {
     "data": {
      "text/plain": [
       "[]"
      ]
     },
     "execution_count": 13,
     "metadata": {},
     "output_type": "execute_result"
    }
   ],
   "source": [
    "get_numbers_ticket(1, 36, 37)"
   ]
  },
  {
   "cell_type": "markdown",
   "id": "38b895f4",
   "metadata": {},
   "source": [
    "# Завдання 3\n",
    "\n",
    "У вашій компанії ведеться активна маркетингова кампанія за допомогою SMS-розсилок. Для цього ви збираєте телефонні номери клієнтів із бази даних, але часто стикаєтеся з тим, що номери записані у різних форматах. Наприклад:\n",
    "\n",
    "    \"+38(050)123-32-34\"\n",
    "    \"0503451234\"\n",
    "    \"(050)8889900\"\n",
    "    \"38050-111-22-22\"\n",
    "    \"38050 111 22 11   \"\n",
    "\n",
    "Ваш сервіс розсилок може ефективно відправляти повідомлення лише тоді, коли номери телефонів представлені у коректному форматі. Тому вам необхідна функція, яка автоматично нормалізує номери телефонів до потрібного формату, видаляючи всі зайві символи та додаючи міжнародний код країни, якщо потрібно.\n",
    "\n",
    "Розробіть функцію normalize_phone(phone_number), що нормалізує телефонні номери до стандартного формату, залишаючи тільки цифри та символ '+' на початку. Функція приймає один аргумент - рядок з телефонним номером у будь-якому форматі та перетворює його на стандартний формат, залишаючи тільки цифри та символ '+'. Якщо номер не містить міжнародного коду, функція автоматично додає код '+38' (для України). Це гарантує, що всі номери будуть придатними для відправлення SMS.\n",
    "\n",
    "\n",
    "Вимоги до завдання:\n",
    "\n",
    "*    Параметр функції phone_number - це рядок з телефонним номером у різноманітних форматах.\n",
    "*    Функція видаляє всі символи, крім цифр та символу '+'.\n",
    "*    Якщо міжнародний код відсутній, функція додає код '+38'. Це враховує випадки, коли номер починається з '380' (додається лише '+') та коли номер починається без коду (додається '+38').\n",
    "*    Функція повертає нормалізований телефонний номер у вигляді рядка.\n"
   ]
  },
  {
   "cell_type": "code",
   "execution_count": 14,
   "id": "a5efac53",
   "metadata": {},
   "outputs": [],
   "source": [
    "import re"
   ]
  },
  {
   "cell_type": "code",
   "execution_count": 35,
   "id": "170a37bf",
   "metadata": {},
   "outputs": [],
   "source": [
    "def normalize_phone(phone_number: str):\n",
    "    # Видаляємо все крім цифр та + \n",
    "    norm_phone = re.sub(r\"[^\\d\\+]\", \"\", phone_number)\n",
    "    # Паттерн для рядка, що починається з +380\n",
    "    pattern_plus_380 = r\"^\\+380(\\d{2})(\\d{7})$\"\n",
    "    # Паттерн для рядка, що починається з 380\n",
    "    pattern_380 = r\"^380(\\d{2})(\\d{7})$\"\n",
    "    # Паттерн для всіх інших варіантів\n",
    "    pattern = r\"(^\\d{2,3})(\\d{7})$\"\n",
    "    # Паттерн для складання нормалізованого номера\n",
    "    replacement = r\"+380\\1\\2\"\n",
    "    # Перевіряємо та нормалізуємо\n",
    "    if re.search(pattern_plus_380, norm_phone): \n",
    "        norm_phone = re.sub(pattern_plus_380, replacement, norm_phone)\n",
    "    elif re.search(pattern_380, norm_phone):\n",
    "        norm_phone = re.sub(pattern_380, replacement, norm_phone)\n",
    "    elif re.search(pattern, norm_phone):\n",
    "        norm_phone = re.sub(pattern, replacement, norm_phone)\n",
    "    else:\n",
    "        norm_phone = f\"Bad number: {phone_number}\"\n",
    "\n",
    "    return norm_phone\n"
   ]
  },
  {
   "cell_type": "code",
   "execution_count": 36,
   "id": "2bdfa0fe",
   "metadata": {},
   "outputs": [
    {
     "data": {
      "text/plain": [
       "'+380671234567'"
      ]
     },
     "execution_count": 36,
     "metadata": {},
     "output_type": "execute_result"
    }
   ],
   "source": [
    "normalize_phone('+380671234567')"
   ]
  },
  {
   "cell_type": "code",
   "execution_count": 37,
   "id": "eddb1372",
   "metadata": {},
   "outputs": [
    {
     "data": {
      "text/plain": [
       "'+380671234567'"
      ]
     },
     "execution_count": 37,
     "metadata": {},
     "output_type": "execute_result"
    }
   ],
   "source": [
    "normalize_phone('+380(67)1234567')"
   ]
  },
  {
   "cell_type": "code",
   "execution_count": 38,
   "id": "0f6ec047",
   "metadata": {},
   "outputs": [
    {
     "data": {
      "text/plain": [
       "'+380671234567'"
      ]
     },
     "execution_count": 38,
     "metadata": {},
     "output_type": "execute_result"
    }
   ],
   "source": [
    "normalize_phone('+38(067)1234567')"
   ]
  },
  {
   "cell_type": "code",
   "execution_count": 39,
   "id": "142c7c8c",
   "metadata": {},
   "outputs": [
    {
     "data": {
      "text/plain": [
       "'+380671234567'"
      ]
     },
     "execution_count": 39,
     "metadata": {},
     "output_type": "execute_result"
    }
   ],
   "source": [
    "normalize_phone('38 067 1234567')"
   ]
  },
  {
   "cell_type": "code",
   "execution_count": 28,
   "id": "65330ad6",
   "metadata": {},
   "outputs": [],
   "source": [
    "test = [\n",
    "    \"+38(050)123-32-34\",\n",
    "    \"0503451234\",\n",
    "    \"(050)8889900\",\n",
    "    \"38050-111-22-22\",\n",
    "    \"38050 111 22 11   \",\n",
    "    \"1124\",\n",
    "    \"+38(050)123-32-346\",\n",
    "]"
   ]
  },
  {
   "cell_type": "code",
   "execution_count": 40,
   "id": "df472dfd",
   "metadata": {},
   "outputs": [
    {
     "data": {
      "text/plain": [
       "['+380501233234',\n",
       " '+3800503451234',\n",
       " '+3800508889900',\n",
       " '+380501112222',\n",
       " '+380501112211',\n",
       " 'Bad number: 1124',\n",
       " 'Bad number: +38(050)123-32-346']"
      ]
     },
     "execution_count": 40,
     "metadata": {},
     "output_type": "execute_result"
    }
   ],
   "source": [
    "[normalize_phone(p) for p in test]"
   ]
  },
  {
   "cell_type": "code",
   "execution_count": 30,
   "id": "aeb9d697",
   "metadata": {},
   "outputs": [],
   "source": [
    "raw_numbers = [\n",
    "    \"067\\\\t123 4567\",\n",
    "    \"(095) 234-5678\\\\n\",\n",
    "    \"+380 44 123 4567\",\n",
    "    \"380501234567\",\n",
    "    \"    +38(050)123-32-34\",\n",
    "    \"     0503451234\",\n",
    "    \"(050)8889900\",\n",
    "    \"38050-111-22-22\",\n",
    "    \"38050 111 22 11   \",\n",
    "]"
   ]
  },
  {
   "cell_type": "code",
   "execution_count": 31,
   "id": "00291474",
   "metadata": {},
   "outputs": [
    {
     "data": {
      "text/plain": [
       "['+3800671234567',\n",
       " '+3800952345678',\n",
       " '+380441234567',\n",
       " '+380501234567',\n",
       " '+380501233234',\n",
       " '+3800503451234',\n",
       " '+3800508889900',\n",
       " '+380501112222',\n",
       " '+380501112211']"
      ]
     },
     "execution_count": 31,
     "metadata": {},
     "output_type": "execute_result"
    }
   ],
   "source": [
    "[normalize_phone(p) for p in raw_numbers]"
   ]
  },
  {
   "cell_type": "markdown",
   "id": "9d154b3d",
   "metadata": {},
   "source": [
    "# Завдання 4\n",
    "\n",
    "У межах вашої організації, ви відповідаєте за організацію привітань колег з днем народження. Щоб оптимізувати цей процес, вам потрібно створити функцію get_upcoming_birthdays, яка допоможе вам визначати, кого з колег потрібно привітати. Функція повинна повернути список всіх у кого день народження вперед на 7 днів включаючи поточний день.\n",
    "\n",
    "У вашому розпорядженні є список users, кожен елемент якого містить інформацію про ім'я користувача та його день народження. Оскільки дні народження колег можуть припадати на вихідні, ваша функція також повинна враховувати це та переносити дату привітання на наступний робочий день, якщо необхідно.\n",
    "\n",
    "\n",
    "Вимоги до завдання:\n",
    "\n",
    "*    Параметр функції users - це список словників, де кожен словник містить ключі name (ім'я користувача, рядок) та birthday (день народження, рядок у форматі 'рік.місяць.дата').\n",
    "*    Функція має визначати, чиї дні народження випадають вперед на 7 днів включаючи поточний день. Якщо день народження припадає на вихідний, дата привітання переноситься на наступний понеділок.\n",
    "*    Функція повертає список словників, де кожен словник містить інформацію про користувача (ключ name) та дату привітання (ключ congratulation_date, дані якого у форматі рядка 'рік.місяць.дата')."
   ]
  },
  {
   "cell_type": "code",
   "execution_count": 24,
   "id": "b74e973b",
   "metadata": {},
   "outputs": [],
   "source": [
    "from  datetime  import datetime, timedelta"
   ]
  },
  {
   "cell_type": "code",
   "execution_count": 25,
   "id": "c2adc0b4",
   "metadata": {},
   "outputs": [],
   "source": [
    "def get_upcoming_birthdays(users):\n",
    "    # Функція перевіряє чи дата потрапляє в потрібний інтервал дат\n",
    "    def birthday_in_interval(user, today, n_day):\n",
    "        birthday = datetime.strptime(user['birthday'], \"%Y.%m.%d\").date()\n",
    "        delta = (birthday - today).days \n",
    "        return delta < n_day and delta >= 0\n",
    "    # Функція створює словник привітання (при потребі зсуває дату на понеділок)\n",
    "    def make_congratulation_date(user):\n",
    "        congratulation_date = datetime.strptime(user['birthday'], \"%Y.%m.%d\").date()\n",
    "        if congratulation_date.weekday() > 4:\n",
    "            congratulation_date += timedelta(days=(7 - congratulation_date.weekday()))\n",
    "        return {'name': user['name'], 'congratulation_date': congratulation_date.strftime(\"%Y.%m.%d\")}\n",
    "\n",
    "    today = datetime.now().date()\n",
    "    # Формуємо список привітань на наступні 7 днів\n",
    "    return [make_congratulation_date(user) for user in users if birthday_in_interval(user, today, 7)]"
   ]
  },
  {
   "cell_type": "code",
   "execution_count": 26,
   "id": "ecf46470",
   "metadata": {},
   "outputs": [],
   "source": [
    "test = [\n",
    "    {'name': 'User 1', 'birthday': '2025.05.27'},\n",
    "    {'name': 'User 2', 'birthday': '2025.05.28'},\n",
    "    {'name': 'User 3', 'birthday': '2025.05.29'},\n",
    "    {'name': 'User 4', 'birthday': '2025.05.30'},\n",
    "    {'name': 'User 5', 'birthday': '2025.05.31'},\n",
    "    {'name': 'User 6', 'birthday': '2025.06.01'},\n",
    "    {'name': 'User 7', 'birthday': '2025.06.02'},\n",
    "    {'name': 'User 8', 'birthday': '2025.06.03'},\n",
    "    {'name': 'User 9', 'birthday': '2025.06.04'},\n",
    "    {'name': 'User 10', 'birthday': '2025.06.05'},\n",
    "]"
   ]
  },
  {
   "cell_type": "code",
   "execution_count": 27,
   "id": "99a2ae1d",
   "metadata": {},
   "outputs": [
    {
     "data": {
      "text/plain": [
       "[{'name': 'User 2', 'congratulation_date': '2025.05.28'},\n",
       " {'name': 'User 3', 'congratulation_date': '2025.05.29'},\n",
       " {'name': 'User 4', 'congratulation_date': '2025.05.30'},\n",
       " {'name': 'User 5', 'congratulation_date': '2025.06.02'},\n",
       " {'name': 'User 6', 'congratulation_date': '2025.06.02'},\n",
       " {'name': 'User 7', 'congratulation_date': '2025.06.02'},\n",
       " {'name': 'User 8', 'congratulation_date': '2025.06.03'}]"
      ]
     },
     "execution_count": 27,
     "metadata": {},
     "output_type": "execute_result"
    }
   ],
   "source": [
    "get_upcoming_birthdays(test)"
   ]
  }
 ],
 "metadata": {
  "kernelspec": {
   "display_name": "base",
   "language": "python",
   "name": "python3"
  },
  "language_info": {
   "codemirror_mode": {
    "name": "ipython",
    "version": 3
   },
   "file_extension": ".py",
   "mimetype": "text/x-python",
   "name": "python",
   "nbconvert_exporter": "python",
   "pygments_lexer": "ipython3",
   "version": "3.12.9"
  }
 },
 "nbformat": 4,
 "nbformat_minor": 5
}
